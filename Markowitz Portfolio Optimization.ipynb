{
 "cells": [
  {
   "cell_type": "markdown",
   "metadata": {},
   "source": [
    "# Markowitz Portfolio Optimization\n",
    "\n",
    "## 1. Problem Formulation\n",
    "We aim to construct an **optimal portfolio** that balances **risk** and **return** using **Markowitz Portfolio Theory**. The optimization problem is formulated as a **quadratic programming (QP) model**, solved using the **Gurobi optimizer**.\n",
    "\n",
    "### 1.1 Decision Variables\n",
    "Let:\n",
    "- $ w_i $ be the weight (fraction of total capital) allocated to asset $ i $.\n",
    "- $ n $ be the total number of assets.\n",
    "\n",
    "### 1.2 Objective Function\n",
    "We consider two possible objectives:\n",
    "\n",
    "#### A. **Minimizing Portfolio Risk (Variance)**\n",
    "$$ \\min \\sum_{i=1}^{n} \\sum_{j=1}^{n} w_i w_j \\sigma_{ij} $$\n",
    "where:\n",
    "- $ \\sigma_{ij} $ is the covariance between asset $ i $ and asset $ j $.\n",
    "\n",
    "#### B. **Maximizing Expected Portfolio Return**\n",
    "$$ \\max \\sum_{i=1}^{n} w_i \\mu_i $$\n",
    "where:\n",
    "- $ \\mu_i $ is the expected return of asset $ i $.\n",
    "\n",
    "### 1.3 Constraints\n",
    "1. **Fully Invested Portfolio**: The sum of asset weights must equal 1.\n",
    "   $$ \\sum_{i=1}^{n} w_i = 1 $$\n",
    "\n",
    "2. **Minimum Expected Return Constraint**: The portfolio return must be at least a target return $ R_t $.\n",
    "   $$ \\sum_{i=1}^{n} w_i \\mu_i \\geq R_t $$\n",
    "\n",
    "3. **Risk Constraint**: The portfolio risk (variance) must be at most a target risk $ V_t $.\n",
    "   $$ \\sum_{i=1}^{n} \\sum_{j=1}^{n} w_i w_j \\sigma_{ij} \\leq V_t $$\n",
    "\n",
    "4. **Non-Negativity of Weights**: No short-selling is allowed.\n",
    "   $$ w_i \\geq 0, \\quad \\forall i \\in \\{1, 2, ..., n\\} $$\n",
    "\n",
    "## 2. Efficient Frontier\n",
    "The **Efficient Frontier** represents portfolios that achieve the highest return for a given level of risk. We generate this by:\n",
    "1. **Varying the target return $ R_t $** across a range.\n",
    "2. **Solving the optimization problem** for each $ R_t $ to find the minimum risk portfolio.\n",
    "3. **Plotting risk vs. return** to visualize the efficient frontier."
   ]
  },
  {
   "cell_type": "markdown",
   "metadata": {},
   "source": [
    "### Note:\n",
    "The above model shows both of the possible objective functions and all the constraints. However, in practice, you would typically choose to minimize the portfolio risk for a given target return."
   ]
  },
  {
   "cell_type": "markdown",
   "metadata": {},
   "source": [
    "## Code:"
   ]
  },
  {
   "cell_type": "code",
   "execution_count": null,
   "metadata": {},
   "outputs": [],
   "source": [
    "import yfinance as yf\n",
    "import gurobipy as gb\n",
    "from gurobipy import GRB\n",
    "import numpy as np\n",
    "import pandas as pd\n",
    "import matplotlib.pyplot as plt"
   ]
  },
  {
   "cell_type": "code",
   "execution_count": null,
   "metadata": {},
   "outputs": [],
   "source": [
    "# ------------------------------\n",
    "# Data Collection & Preprocessing\n",
    "# ------------------------------\n",
    "def fetch_stock_data(tickers, start_date, end_date):\n",
    "    \"\"\"Fetch historical adjusted closing prices for given stock tickers.\"\"\"\n",
    "    all_data = []\n",
    "    for ticker in tickers:\n",
    "        try:\n",
    "            data = yf.download(ticker, start=start_date, end=end_date, progress=False)[\"Adj Close\"]\n",
    "            if not data.empty:\n",
    "                all_data.append(data.rename(ticker))\n",
    "        except Exception as e:\n",
    "            print(f\"Error fetching {ticker}: {e}\")\n",
    "    \n",
    "    if all_data:\n",
    "        stock_data = pd.concat(all_data, axis=1)\n",
    "        stock_data.fillna(method=\"ffill\", inplace=True)  # Handle missing data\n",
    "        return stock_data\n",
    "    else:\n",
    "        raise ValueError(\"No valid stock data retrieved.\")\n",
    "\n",
    "def compute_returns_and_cov(stock_data):\n",
    "    \"\"\"Computes daily returns and covariance matrix.\"\"\"\n",
    "    returns = stock_data.pct_change().dropna()\n",
    "    return returns.mean(), returns.cov()"
   ]
  },
  {
   "cell_type": "code",
   "execution_count": null,
   "metadata": {},
   "outputs": [],
   "source": [
    "# ------------------------------\n",
    "# Portfolio Optimization using Gurobi\n",
    "# ------------------------------\n",
    "def optimize_portfolio(mean_returns, cov_matrix, target_return=None):\n",
    "    \"\"\"Solves the Markowitz portfolio optimization problem using Gurobi.\"\"\"\n",
    "    num_assets = len(mean_returns)\n",
    "    model = gb.Model(\"Markowitz Portfolio Optimization\")\n",
    "    model.Params.OutputFlag = 0  # Suppress solver output\n",
    "    \n",
    "    # Decision variables (weights)\n",
    "    weights = model.addVars(num_assets, lb=0.0, ub=1.0, name=\"Weights\")\n",
    "    \n",
    "    # Constraints\n",
    "    model.addConstr(gb.quicksum(weights[i] for i in range(num_assets)) == 1, name=\"Budget\")\n",
    "    \n",
    "    if target_return is not None:\n",
    "        model.addConstr(gb.quicksum(weights[i] * mean_returns[i] for i in range(num_assets)) >= target_return, name=\"TargetReturn\")\n",
    "    \n",
    "    # Objective: Minimize portfolio variance\n",
    "    portfolio_variance = gb.quicksum(weights[i] * weights[j] * cov_matrix.iloc[i, j] for i in range(num_assets) for j in range(num_assets))\n",
    "    model.setObjective(portfolio_variance, GRB.MINIMIZE)\n",
    "    \n",
    "    # Solve optimization problem\n",
    "    model.optimize()\n",
    "    \n",
    "    if model.status == GRB.Status.OPTIMAL:\n",
    "        return {\n",
    "            \"weights\": np.array([weights[i].x for i in range(num_assets)]),\n",
    "            \"variance\": model.ObjVal,\n",
    "            \"std_dev\": np.sqrt(model.ObjVal)\n",
    "        }\n",
    "    else:\n",
    "        raise ValueError(\"Optimization failed: No optimal solution found.\")"
   ]
  },
  {
   "cell_type": "code",
   "execution_count": null,
   "metadata": {},
   "outputs": [],
   "source": [
    "# ------------------------------\n",
    "# Efficient Frontier Calculation\n",
    "# ------------------------------\n",
    "def compute_efficient_frontier(mean_returns, cov_matrix, num_portfolios=50):\n",
    "    \"\"\"Generates the efficient frontier by solving optimization for different target returns.\"\"\"\n",
    "    min_return, max_return = mean_returns.min(), mean_returns.max()\n",
    "    target_returns = np.linspace(min_return, max_return, num_portfolios)\n",
    "    \n",
    "    port_risks, port_weights = [], []\n",
    "    \n",
    "    for target_return in target_returns:\n",
    "        try:\n",
    "            result = optimize_portfolio(mean_returns, cov_matrix, target_return)\n",
    "            port_risks.append(result[\"std_dev\"])\n",
    "            port_weights.append(result[\"weights\"])\n",
    "        except:\n",
    "            continue  # Skip infeasible points\n",
    "    \n",
    "    return target_returns[:len(port_risks)], port_risks, port_weights"
   ]
  },
  {
   "cell_type": "code",
   "execution_count": null,
   "metadata": {},
   "outputs": [],
   "source": [
    "# ------------------------------\n",
    "# Visualization of the Efficient Frontier\n",
    "# ------------------------------\n",
    "def plot_efficient_frontier(target_returns, port_risks):\n",
    "    \"\"\"Plots the efficient frontier of the portfolio optimization.\"\"\"\n",
    "    plt.figure(figsize=(12, 6))\n",
    "    plt.scatter(port_risks, target_returns, c=target_returns / np.array(port_risks), marker=\"o\", cmap=\"viridis\")\n",
    "    plt.colorbar(label=\"Sharpe Ratio\")\n",
    "    plt.xlabel(\"Risk (Standard Deviation)\")\n",
    "    plt.ylabel(\"Expected Return\")\n",
    "    plt.title(\"Efficient Frontier\")\n",
    "    plt.show()"
   ]
  },
  {
   "cell_type": "code",
   "execution_count": null,
   "metadata": {},
   "outputs": [],
   "source": [
    "# ------------------------------\n",
    "# Main Execution\n",
    "# ------------------------------\n",
    "if __name__ == \"__main__\":\n",
    "    tickers = [\"AAPL\", \"GOOGL\", \"AMZN\", \"NFLX\", \"TSLA\"] # Select the stock tickers you desire\n",
    "    start_date, end_date = \"2020-01-01\", \"2024-11-10\" # Select the range of the historical data you desire\n",
    "    \n",
    "    print(\"Fetching stock data...\")\n",
    "    stock_data = fetch_stock_data(tickers, start_date, end_date)\n",
    "    mean_returns, cov_matrix = compute_returns_and_cov(stock_data)\n",
    "    \n",
    "    print(\"Computing efficient frontier...\")\n",
    "    target_returns, port_risks, _ = compute_efficient_frontier(mean_returns, cov_matrix)\n",
    "    \n",
    "    print(\"Plotting efficient frontier...\")\n",
    "    plot_efficient_frontier(target_returns, port_risks)"
   ]
  }
 ],
 "metadata": {
  "kernelspec": {
   "display_name": "Python 3",
   "language": "python",
   "name": "python3"
  },
  "language_info": {
   "codemirror_mode": {
    "name": "ipython",
    "version": 3
   },
   "file_extension": ".py",
   "mimetype": "text/x-python",
   "name": "python",
   "nbconvert_exporter": "python",
   "pygments_lexer": "ipython3",
   "version": "3.12.6"
  }
 },
 "nbformat": 4,
 "nbformat_minor": 2
}
